{
  "nbformat": 4,
  "nbformat_minor": 0,
  "metadata": {
    "colab": {
      "name": "Audio_Transcription.ipynb",
      "provenance": [],
      "collapsed_sections": [],
      "authorship_tag": "ABX9TyOVT0N8vyHPV7NyiqelCZQF"
    },
    "kernelspec": {
      "name": "python3",
      "display_name": "Python 3"
    },
    "language_info": {
      "name": "python"
    },
    "accelerator": "GPU"
  },
  "cells": [
    {
      "cell_type": "code",
      "metadata": {
        "colab": {
          "base_uri": "https://localhost:8080/"
        },
        "id": "NduBYZvhtDUL",
        "outputId": "e1dff9da-42cd-463f-c63f-e81b4f80bf64"
      },
      "source": [
        "!wget \"https://www.dropbox.com/s/zf5gngld8h6xwqi/4%20Minute%20Lecture%20Transcription%20-%20Assignment.mp3?dl=0\""
      ],
      "execution_count": 1,
      "outputs": [
        {
          "output_type": "stream",
          "text": [
            "--2021-04-17 16:43:56--  https://www.dropbox.com/s/zf5gngld8h6xwqi/4%20Minute%20Lecture%20Transcription%20-%20Assignment.mp3?dl=0\n",
            "Resolving www.dropbox.com (www.dropbox.com)... 162.125.6.18, 2620:100:601a:18::a27d:712\n",
            "Connecting to www.dropbox.com (www.dropbox.com)|162.125.6.18|:443... connected.\n",
            "HTTP request sent, awaiting response... 301 Moved Permanently\n",
            "Location: /s/raw/zf5gngld8h6xwqi/4%20Minute%20Lecture%20Transcription%20-%20Assignment.mp3 [following]\n",
            "--2021-04-17 16:43:56--  https://www.dropbox.com/s/raw/zf5gngld8h6xwqi/4%20Minute%20Lecture%20Transcription%20-%20Assignment.mp3\n",
            "Reusing existing connection to www.dropbox.com:443.\n",
            "HTTP request sent, awaiting response... 302 Found\n",
            "Location: https://uc5cd0fa8bc1f96d409051a07928.dl.dropboxusercontent.com/cd/0/inline/BMyH2JLuC_8DSPw4LoCWp_B8c3zDBVz9D-DQFE3VVdVo3qbCsXazNpbgYFKU2Dt09wxEflZk2mfyVOsM41eAv0AqPuNw897aI7Gx6ln_gtOdCCVp9NpQemB9AH94EZCQk_tX4u-BUt18Nh1j82wDbsxE/file# [following]\n",
            "--2021-04-17 16:43:56--  https://uc5cd0fa8bc1f96d409051a07928.dl.dropboxusercontent.com/cd/0/inline/BMyH2JLuC_8DSPw4LoCWp_B8c3zDBVz9D-DQFE3VVdVo3qbCsXazNpbgYFKU2Dt09wxEflZk2mfyVOsM41eAv0AqPuNw897aI7Gx6ln_gtOdCCVp9NpQemB9AH94EZCQk_tX4u-BUt18Nh1j82wDbsxE/file\n",
            "Resolving uc5cd0fa8bc1f96d409051a07928.dl.dropboxusercontent.com (uc5cd0fa8bc1f96d409051a07928.dl.dropboxusercontent.com)... 162.125.6.15, 2620:100:601c:15::a27d:60f\n",
            "Connecting to uc5cd0fa8bc1f96d409051a07928.dl.dropboxusercontent.com (uc5cd0fa8bc1f96d409051a07928.dl.dropboxusercontent.com)|162.125.6.15|:443... connected.\n",
            "HTTP request sent, awaiting response... 200 OK\n",
            "Length: 3150138 (3.0M) [audio/mpeg]\n",
            "Saving to: ‘4 Minute Lecture Transcription - Assignment.mp3?dl=0’\n",
            "\n",
            "4 Minute Lecture Tr 100%[===================>]   3.00M  --.-KB/s    in 0.02s   \n",
            "\n",
            "2021-04-17 16:43:57 (161 MB/s) - ‘4 Minute Lecture Transcription - Assignment.mp3?dl=0’ saved [3150138/3150138]\n",
            "\n"
          ],
          "name": "stdout"
        }
      ]
    },
    {
      "cell_type": "code",
      "metadata": {
        "colab": {
          "base_uri": "https://localhost:8080/"
        },
        "id": "xs2DfdB_tPYt",
        "outputId": "420ad2ac-7895-4c5a-cc85-76905084608c"
      },
      "source": [
        "pip install SpeechRecognition"
      ],
      "execution_count": 2,
      "outputs": [
        {
          "output_type": "stream",
          "text": [
            "Collecting SpeechRecognition\n",
            "\u001b[?25l  Downloading https://files.pythonhosted.org/packages/26/e1/7f5678cd94ec1234269d23756dbdaa4c8cfaed973412f88ae8adf7893a50/SpeechRecognition-3.8.1-py2.py3-none-any.whl (32.8MB)\n",
            "\u001b[K     |████████████████████████████████| 32.8MB 92kB/s \n",
            "\u001b[?25hInstalling collected packages: SpeechRecognition\n",
            "Successfully installed SpeechRecognition-3.8.1\n"
          ],
          "name": "stdout"
        }
      ]
    },
    {
      "cell_type": "code",
      "metadata": {
        "colab": {
          "base_uri": "https://localhost:8080/"
        },
        "id": "nP31YQv4tb6R",
        "outputId": "260790b2-2b9a-4c3d-bbf9-96003521fc00"
      },
      "source": [
        "pip install pydub"
      ],
      "execution_count": 3,
      "outputs": [
        {
          "output_type": "stream",
          "text": [
            "Collecting pydub\n",
            "  Downloading https://files.pythonhosted.org/packages/a6/53/d78dc063216e62fc55f6b2eebb447f6a4b0a59f55c8406376f76bf959b08/pydub-0.25.1-py2.py3-none-any.whl\n",
            "Installing collected packages: pydub\n",
            "Successfully installed pydub-0.25.1\n"
          ],
          "name": "stdout"
        }
      ]
    },
    {
      "cell_type": "code",
      "metadata": {
        "colab": {
          "base_uri": "https://localhost:8080/",
          "height": 35
        },
        "id": "qK3kjHcstQN_",
        "outputId": "8e84ee2a-71c3-445f-9959-d11f07824015"
      },
      "source": [
        "import speech_recognition as sr\n",
        "sr.__version__"
      ],
      "execution_count": 4,
      "outputs": [
        {
          "output_type": "execute_result",
          "data": {
            "application/vnd.google.colaboratory.intrinsic+json": {
              "type": "string"
            },
            "text/plain": [
              "'3.8.1'"
            ]
          },
          "metadata": {
            "tags": []
          },
          "execution_count": 4
        }
      ]
    },
    {
      "cell_type": "code",
      "metadata": {
        "id": "A7XmYZlVtQaj"
      },
      "source": [
        "r = sr.Recognizer()"
      ],
      "execution_count": 5,
      "outputs": []
    },
    {
      "cell_type": "code",
      "metadata": {
        "id": "H47Li0m7tQlz"
      },
      "source": [
        "from pydub import AudioSegment\n",
        "from pydub.silence import split_on_silence\n",
        "import os "
      ],
      "execution_count": 6,
      "outputs": []
    },
    {
      "cell_type": "code",
      "metadata": {
        "colab": {
          "base_uri": "https://localhost:8080/"
        },
        "id": "Ci6cOR8ItQwd",
        "outputId": "ce815e38-64aa-4c08-fa33-0457e5940bd8"
      },
      "source": [
        "# converting mp3 file to wav                                                       \n",
        "sound = AudioSegment.from_mp3(\"4 Minute Lecture Transcription - Assignment.mp3?dl=0\")\n",
        "sound.export(\"4 Minute Lecture Transcription - Assignment.wav\", format=\"wav\")"
      ],
      "execution_count": 7,
      "outputs": [
        {
          "output_type": "execute_result",
          "data": {
            "text/plain": [
              "<_io.BufferedRandom name='4 Minute Lecture Transcription - Assignment.wav'>"
            ]
          },
          "metadata": {
            "tags": []
          },
          "execution_count": 7
        }
      ]
    },
    {
      "cell_type": "code",
      "metadata": {
        "id": "GxqoouddtQ5s"
      },
      "source": [
        "# a function that splits the audio file into chunks\n",
        "# and applies speech recognition\n",
        "def get_audio_transcription(path):\n",
        "    confidence_list = []\n",
        "    \"\"\"\n",
        "    Splitting the large audio file into chunks\n",
        "    and apply speech recognition on each of these chunks\n",
        "    \"\"\"\n",
        "    # open the audio file using pydub\n",
        "    sound = AudioSegment.from_wav(path)  \n",
        "\n",
        "    chunks = split_on_silence(sound,\n",
        "        # experiment with this value for your target audio file\n",
        "        min_silence_len = 1000,\n",
        "        # adjust this as per the requirement\n",
        "        silence_thresh = sound.dBFS-5,\n",
        "        # keep the silence for 1 second, adjustable as well\n",
        "        keep_silence=700,\n",
        "    )\n",
        "    folder_name = \"audio-chunks\"\n",
        "    # create a directory to store the audio chunks\n",
        "    if not os.path.isdir(folder_name):\n",
        "        os.mkdir(folder_name)\n",
        "    whole_text = \"\"\n",
        "    # process each chunk \n",
        "    for i, audio_chunk in enumerate(chunks, start=1):\n",
        "        # export audio chunk and save it in\n",
        "        # the `folder_name` directory.\n",
        "        chunk_filename = os.path.join(folder_name, f\"chunk{i}.wav\")\n",
        "        audio_chunk.export(chunk_filename, format=\"wav\")\n",
        "        # recognize the chunk\n",
        "        with sr.AudioFile(chunk_filename) as source:\n",
        "            #r.adjust_for_ambient_noise(source)\n",
        "            audio_listened = r.record(source)\n",
        "            # try converting it to text\n",
        "            try:\n",
        "                text = r.recognize_google(audio_listened,show_all=True)\n",
        "            except sr.UnknownValueError as e:\n",
        "                print(\"Error:\", str(e))\n",
        "            else:\n",
        "                if len(text)!=0:\n",
        "                   whole_text += text['alternative'][0]['transcript'] + \",\"+\" \"\n",
        "                   if 'confidence' in text['alternative'][0].keys():\n",
        "                     confidence_list.append(text['alternative'][0]['confidence'])\n",
        "                  \n",
        "    # return the text for all chunks detected\n",
        "    return whole_text,confidence_list"
      ],
      "execution_count": 23,
      "outputs": []
    },
    {
      "cell_type": "code",
      "metadata": {
        "id": "LDUC1Qq8tRB4"
      },
      "source": [
        "path = \"4 Minute Lecture Transcription - Assignment.wav\"\n",
        "transcript_audio,confidence_list =get_audio_transcription(path)"
      ],
      "execution_count": 24,
      "outputs": []
    },
    {
      "cell_type": "code",
      "metadata": {
        "colab": {
          "base_uri": "https://localhost:8080/",
          "height": 103
        },
        "id": "6W2ILIlrtRJr",
        "outputId": "9e0af8c0-9c28-4e8c-9216-f8beca5c0e27"
      },
      "source": [
        "transcript_audio"
      ],
      "execution_count": 25,
      "outputs": [
        {
          "output_type": "execute_result",
          "data": {
            "application/vnd.google.colaboratory.intrinsic+json": {
              "type": "string"
            },
            "text/plain": [
              "\"so what do we mean by this, security listed on the stock market, does everybody have an apartment, Mommy, Wasting Light, investing money UK, investing money, investing investing in the towns of 11 people. Solutions. That's what I meant when I said, so what's an apartment, somebody's appraiser, Avondale AZ Layton message about guy actually ring the bell., biggest, Jordans / satisfaction, do sacrifices, everybody has, you can do money introduction, what's the date, HD, is Valium, suppose you want to treat money as an article, Rachel quantity of money is on what axis, what is it on the other, download flipping over again, price flash pass Orlando, any questions, this concept of, a few basic Cornerstone principles of Finance, \""
            ]
          },
          "metadata": {
            "tags": []
          },
          "execution_count": 25
        }
      ]
    },
    {
      "cell_type": "code",
      "metadata": {
        "colab": {
          "base_uri": "https://localhost:8080/"
        },
        "id": "yBOqtdM5tRQO",
        "outputId": "60186947-1789-4d8b-ce1e-2f2ee06eeb0f"
      },
      "source": [
        "len(confidence_list)"
      ],
      "execution_count": 26,
      "outputs": [
        {
          "output_type": "execute_result",
          "data": {
            "text/plain": [
              "24"
            ]
          },
          "metadata": {
            "tags": []
          },
          "execution_count": 26
        }
      ]
    },
    {
      "cell_type": "code",
      "metadata": {
        "colab": {
          "base_uri": "https://localhost:8080/"
        },
        "id": "GKpWlhPEtRWN",
        "outputId": "8fabe5ed-410f-4720-a437-1ab1cb07a065"
      },
      "source": [
        "confidence_summation = 0\n",
        "for i in confidence_list:\n",
        "  confidence_summation += i\n",
        "\n",
        "accuracy = confidence_summation/len(confidence_list)*100\n",
        "print(accuracy)"
      ],
      "execution_count": 18,
      "outputs": [
        {
          "output_type": "stream",
          "text": [
            "70.72086165217392\n"
          ],
          "name": "stdout"
        }
      ]
    },
    {
      "cell_type": "code",
      "metadata": {
        "id": "q_Y_W-THtRcS"
      },
      "source": [
        ""
      ],
      "execution_count": null,
      "outputs": []
    },
    {
      "cell_type": "code",
      "metadata": {
        "id": "wui9pB33y2Sj"
      },
      "source": [
        ""
      ],
      "execution_count": null,
      "outputs": []
    }
  ]
}